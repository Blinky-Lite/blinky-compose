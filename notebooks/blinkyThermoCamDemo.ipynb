{
 "cells": [
  {
   "cell_type": "markdown",
   "metadata": {
    "editable": true,
    "slideshow": {
     "slide_type": ""
    },
    "tags": []
   },
   "source": [
    "# blinky-thermo-cam viewer"
   ]
  },
  {
   "cell_type": "code",
   "execution_count": 1,
   "metadata": {
    "editable": true,
    "id": "ZwErER0n6jWf",
    "jupyter": {
     "source_hidden": true
    },
    "slideshow": {
     "slide_type": "skip"
    },
    "tags": []
   },
   "outputs": [
    {
     "data": {
      "application/vnd.jupyter.widget-view+json": {
       "model_id": "3b3eaffd1e854ecaaeb04f8ded75068e",
       "version_major": 2,
       "version_minor": 0
      },
      "text/plain": [
       "VBox(children=(HBox(children=(Text(value='01', description='Tray:', placeholder=''), BoundedIntText(value=1000…"
      ]
     },
     "metadata": {},
     "output_type": "display_data"
    },
    {
     "data": {
      "application/vnd.jupyter.widget-view+json": {
       "model_id": "c397267f3f04400bacb4a3e33d711d75",
       "version_major": 2,
       "version_minor": 0
      },
      "text/plain": [
       "Output()"
      ]
     },
     "metadata": {},
     "output_type": "display_data"
    }
   ],
   "source": [
    "import pymongo\n",
    "import datetime\n",
    "import pytz\n",
    "from matplotlib import pyplot\n",
    "import numpy\n",
    "import math\n",
    "import ipywidgets as widgets\n",
    "from IPython.display import display\n",
    "from IPython.display import HTML\n",
    "from IPython.display import clear_output\n",
    "import shutil\n",
    "import os\n",
    "\n",
    "client = None\n",
    "\n",
    "imageArrays = []\n",
    "timeStampArray = []\n",
    "goodData = False\n",
    "thermoPlot = widgets.Output()\n",
    "minPixy =  100000000\n",
    "maxPixy = -100000000\n",
    "\n",
    "def plotImage(minPix, maxPix,  frame=0):\n",
    "    global minPixy\n",
    "    global maxPixy\n",
    "    minPixy = minPix\n",
    "    maxPixy = maxPix\n",
    "    pyplot.figure(figsize=(9,6))\n",
    "    pyplot.imshow(imageArrays[frame][::-1,:],cmap=pyplot.get_cmap('plasma'),vmax=maxPix,vmin=minPix)\n",
    "    pyplot.colorbar()\n",
    "    title = \"Frame:\" + str(frame) + \"/\" + str(len(timeStampArray) - 1) + \" - \" + timeStampArray[frame].strftime(\"%b-%d-%Y, %H:%M:%S\")\n",
    "    pyplot.title(title)\n",
    "    pyplot.tight_layout()\n",
    "\n",
    "def plotImageToFile(frame=0):\n",
    "    pyplot.figure(figsize=(9,6))\n",
    "    pyplot.imshow(imageArrays[frame][::-1,:],cmap=pyplot.get_cmap('plasma'),vmax=maxPixy,vmin=minPixy)\n",
    "    pyplot.colorbar()\n",
    "    title = \"Frame:\" + str(frame) + \"/\" + str(len(timeStampArray) - 1) + \" - \" + timeStampArray[frame].strftime(\"%b-%d-%Y, %H:%M:%S\")\n",
    "    pyplot.title(title)\n",
    "    pyplot.tight_layout()\n",
    "    fileTitle = 'images/frame{:04d}'.format(frame)\n",
    "    pyplot.savefig(fileTitle, bbox_inches='tight')\n",
    "    pyplot.close()\n",
    "\n",
    "def saveData(self):\n",
    "    saveDataButton.disabled = True\n",
    "    disableUI(True)\n",
    "    try:\n",
    "        shutil.rmtree(\"/home/jovyan/work/images\")\n",
    "    except:\n",
    "        messageField.value = \"Image directory does not exist. Creating.\"\n",
    "    os.mkdir(\"/home/jovyan/work/images\")\n",
    "    messageField.value = \"Saving image data.\"\n",
    "    try:\n",
    "        for iframe in range(len(imageArrays)):\n",
    "            plotImageToFile(frame=iframe)\n",
    "            messageField.value = messageField.value + \".\"\n",
    "        shutil.make_archive('images', 'zip', '/home/jovyan/work/images')\n",
    "        shutil.rmtree(\"/home/jovyan/work/images\")\n",
    "        saveDataButton.disabled = False\n",
    "        disableUI(False)\n",
    "        messageField.value = \"Image data saved\"\n",
    "    except:\n",
    "        saveDataButton.disabled = False\n",
    "        disableUI(False)\n",
    "        messageField.value = \"Error in saving image data\"\n",
    "    saveDataButton.disabled = False\n",
    "    disableUI(False)\n",
    "\n",
    "\n",
    "def disableUI(disable):\n",
    "    startDateField.disabled = disable\n",
    "    stopDateField.disabled = disable\n",
    "    trayNameField.disabled = disable\n",
    "    databasePwField.disabled = disable\n",
    "    submitPasswordButton.disabled = disable\n",
    "    frameInterval.disabled = disable\n",
    "\n",
    "def submitPasswordButtonCallback(self):\n",
    "    goodData = False\n",
    "    messageField.value = \"Retrieving data.\"\n",
    "    disableUI(True)\n",
    "    saveDataButton.disabled = True\n",
    "    client = pymongo.MongoClient(\"mongodb://admin:\" + databasePwField.value + \"@blinky-mongo:27017/blinky-lite?retryWrites=true&serverSelectionTimeoutMS=5000&connectTimeoutMS=10000&authSource=admin&authMechanism=SCRAM-SHA-256\")\n",
    "    startTimeStamp = (datetime.datetime(startDateField.value.year,startDateField.value.month,startDateField.value.day,startDateField.value.hour,startDateField.value.minute,startDateField.value.second) - datetime.datetime(1970, 1, 1)).total_seconds() * 1000;\n",
    "    stopTimeStamp  = (datetime.datetime(stopDateField.value.year,stopDateField.value.month,stopDateField.value.day,stopDateField.value.hour,stopDateField.value.minute,stopDateField.value.second) - datetime.datetime(1970, 1, 1)).total_seconds() * 1000;\n",
    "    queryFilter = {\"$and\" : [{\"type\": \"blinky-thermo-cam\"},{\"name\": trayNameField.value},{\"timeStamp\" : {\"$gt\": startTimeStamp, \"$lt\": stopTimeStamp} } ] }\n",
    "    try:\n",
    "        records = client[\"blinky-lite\"].archiver.find(queryFilter)\n",
    "        goodData = True\n",
    "    except:\n",
    "        messageField.value = \"Failure: Images not retrieved\"\n",
    "    if goodData:\n",
    "        while len(imageArrays) > 0:\n",
    "            imageArrays.pop(0)\n",
    "        while len(timeStampArray) > 0:\n",
    "            timeStampArray.pop(0)\n",
    "        global minPixy\n",
    "        global maxPixy\n",
    "        minPixy =  100000000\n",
    "        maxPixy = -100000000\n",
    "        for irec in records:\n",
    "            try:\n",
    "                imageArray = numpy.array(irec['imageData']['imageArray'])\n",
    "                timeStampArray.append(datetime.datetime.fromtimestamp(round(irec['imageData']['timeStamp'] / 1000)))\n",
    "                for irow in range(irec['imageData']['nrows']):\n",
    "                    for icol in range(irec['imageData']['ncols']):\n",
    "                        imageArray[irow][icol] = irec['imageData']['minval'] - 27315 + (irec['imageData']['maxval'] - irec['imageData']['minval']) * imageArray[irow][icol] / 255.0\n",
    "                        imageArray[irow][icol] = imageArray[irow][icol] * 10\n",
    "                imageArrays.append(imageArray)\n",
    "                maxPixS = numpy.amax(imageArray)\n",
    "                minPixS = numpy.amin(imageArray)\n",
    "                if maxPixS > maxPixy:\n",
    "                    maxPixy = maxPixS\n",
    "                if minPixS < minPixy:\n",
    "                    minPixy = minPixS\n",
    "                messageField.value = messageField.value + \".\"\n",
    "            except:\n",
    "                messageField.value = \"Bad record. Skipping data. Continuing to process.\"\n",
    "            maxPixy = round(1000 * math.ceil(maxPixy / 1000),0)\n",
    "            minPixy = round(1000 * math.floor(minPixy / 1000),0)\n",
    "        with thermoPlot:\n",
    "            clear_output(wait=True)\n",
    "            if len(imageArrays) > 0:\n",
    "                messageField.value = \"Image retrieval completed.\"\n",
    "                maxPixSliderSlider = widgets.IntSlider(min=minPixy, max=maxPixy, value=maxPixy, step=1000)\n",
    "                minPixSliderSlider = widgets.IntSlider(min=minPixy, max=maxPixy, value=minPixy, step=1000)\n",
    "                sliderLocationSlider = widgets.IntSlider(min=0, max=len(imageArrays) - 1, value=0, step=1)\n",
    "                loopPlayControl = widgets.Play(min=0, max=len(imageArrays) - 1, step=1, interval=frameInterval.value)\n",
    "                sliderplot = widgets.interactive(plotImage, maxPix=maxPixSliderSlider,   minPix=minPixSliderSlider, frame=sliderLocationSlider)\n",
    "                loopPlot   = widgets.interactive(plotImage, maxPix=maxPixSliderSlider,   minPix=minPixSliderSlider, frame=loopPlayControl)\n",
    "                accordion = widgets.Accordion(children=[sliderplot, loopPlot], titles=('Slider', 'Animation'))\n",
    "                display(accordion)\n",
    "                saveDataButton.disabled = False\n",
    "            else:\n",
    "                messageField.value = \"No images found\"\n",
    "                saveDataButton.disabled = True\n",
    "    disableUI(False)\n",
    "\n",
    "now = pytz.utc.localize(datetime.datetime.now().replace(second=0, microsecond=0))\n",
    "then = now - datetime.timedelta(days=1)\n",
    "startDateField = widgets.DatetimePicker(description='Start', disabled=False, value=then)\n",
    "stopDateField = widgets.DatetimePicker(description='End',disabled=False, value=now)\n",
    "trayNameField = widgets.Text(value='01',placeholder='',description='Tray:',disabled=False)\n",
    "databasePwField = widgets.Password(value='areallybadpassword',description='Password:',disabled=False)\n",
    "submitPasswordButton = widgets.Button(description='Retrieve Data',disabled=False,button_style='danger',tooltip='Retrieve Data',icon='')\n",
    "submitPasswordButton.on_click(submitPasswordButtonCallback)\n",
    "frameInterval = widgets.BoundedIntText(value=1000,min=200,max=10000,step=100,description='Int.(mS):',disabled=False, continuous_update=False)\n",
    "saveDataButton = widgets.Button(description='Save Data',disabled=True,button_style='warning',tooltip='Retrieve Data',icon='')\n",
    "saveDataButton.on_click(saveData)\n",
    "line1 =  widgets.HBox([trayNameField,frameInterval] )\n",
    "line2 =  widgets.HBox([startDateField,stopDateField])\n",
    "line3 =  widgets.HBox([databasePwField,submitPasswordButton])\n",
    "messageField = widgets.Label(value=\"\")\n",
    "entryField = widgets.VBox([line1,line2,line3,saveDataButton,messageField])\n",
    "\n",
    "display(entryField)\n",
    "display(thermoPlot)"
   ]
  },
  {
   "cell_type": "code",
   "execution_count": null,
   "metadata": {},
   "outputs": [],
   "source": []
  }
 ],
 "metadata": {
  "colab": {
   "provenance": []
  },
  "kernelspec": {
   "display_name": "Python 3 (ipykernel)",
   "language": "python",
   "name": "python3"
  },
  "language_info": {
   "codemirror_mode": {
    "name": "ipython",
    "version": 3
   },
   "file_extension": ".py",
   "mimetype": "text/x-python",
   "name": "python",
   "nbconvert_exporter": "python",
   "pygments_lexer": "ipython3",
   "version": "3.11.6"
  }
 },
 "nbformat": 4,
 "nbformat_minor": 4
}
